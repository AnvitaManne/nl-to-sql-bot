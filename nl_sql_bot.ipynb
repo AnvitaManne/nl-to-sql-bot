{
 "cells": [
  {
   "cell_type": "markdown",
   "id": "markdown-setup",
   "metadata": {},
   "source": [
    "## Setup and Installations"
   ]
  },
  {
   "cell_type": "code",
   "execution_count": null,
   "id": "07774e3a-bf3e-4819-bf89-bf24958a4985",
   "metadata": {},
   "outputs": [],
   "source": [
    "pip install openai\n",
    "!pip install --upgrade --force-reinstall pydantic pydantic-core\n",
    "!pip install jiter"
   ]
  },
  {
   "cell_type": "code",
   "execution_count": null,
   "id": "626342a1-c4ae-477a-8416-227899e36a1b",
   "metadata": {},
   "outputs": [],
   "source": [
    "import sqlite3\n",
    "import openai\n",
    "from openai import OpenAI\n",
    "import re\n",
    "import jiter"
   ]
  },
  {
   "cell_type": "markdown",
   "id": "markdown-helpers",
   "metadata": {},
   "source": [
    "## Helper Functions"
   ]
  },
  {
   "cell_type": "code",
   "execution_count": null,
   "id": "ddfb28da-b02c-49c8-9ca8-76790177fe67",
   "metadata": {},
   "outputs": [],
   "source": [
    "def get_table_columns(table_name, db_path=\"travel2.sqlite\"):\n",
    "    conn = sqlite3.connect(db_path)\n",
    "    cursor = conn.cursor()\n",
    "    cursor.execute(f\"PRAGMA table_info({table_name});\")\n",
    "    columns = cursor.fetchall()\n",
    "    conn.close()\n",
    "    return [col[1] for col in columns]"
   ]
  },
  {
   "cell_type": "code",
   "execution_count": null,
   "id": "4f625fe1-5a89-4cd1-9545-667f428adcbe",
   "metadata": {},
   "outputs": [],
   "source": [
    "def execute_sql(sql_query, db_path=\"travel2.sqlite\", preview_limit=10):\n",
    "    conn = sqlite3.connect(db_path)\n",
    "    cursor = conn.cursor()\n",
    "    try:\n",
    "        cursor.execute(sql_query)\n",
    "        result = cursor.fetchall()\n",
    "        conn.close()\n",
    "        return result[:preview_limit], len(result)\n",
    "    except Exception as e:\n",
    "        conn.close()\n",
    "        return f\" Error executing query: {e}\", 0"
   ]
  },
  {
   "cell_type": "code",
   "execution_count": null,
   "id": "e4a3111c-b8f3-42f4-989c-597927750532",
   "metadata": {},
   "outputs": [],
   "source": [
    "def show_tables(db_path=\"travel2.sqlite\"):\n",
    "    conn = sqlite3.connect(db_path)\n",
    "    cursor = conn.cursor()\n",
    "    cursor.execute(\"SELECT name FROM sqlite_master WHERE type='table';\")\n",
    "    tables = cursor.fetchall()\n",
    "    conn.close()\n",
    "    print(\" Tables in DB:\", [table[0] for table in tables])"
   ]
  },
  {
   "cell_type": "code",
   "execution_count": null,
   "id": "30b18734-6203-4207-942f-b23fcee3a8ba",
   "metadata": {},
   "outputs": [],
   "source": [
    "def load_city_to_code_map(db_path=\"travel2.sqlite\"):\n",
    "    conn = sqlite3.connect(db_path)\n",
    "    cursor = conn.cursor()\n",
    "    cursor.execute(\"SELECT city, airport_code FROM airports_data;\")\n",
    "    data = cursor.fetchall()\n",
    "    conn.close()\n",
    "    return {city.lower(): code for city, code in data}"
   ]
  },
  {
   "cell_type": "code",
   "execution_count": null,
   "id": "df982f2b-65a6-4b99-8726-704ce3192ca9",
   "metadata": {},
   "outputs": [],
   "source": [
    "client = OpenAI(api_key=\"YOUR_API_KEY_HERE\")\n",
    "city_code_map = load_city_to_code_map()\n",
    "\n",
    "def nl_to_sql(nl_query, table_name):\n",
    "    # Try to handle simple \"from <city>\" case first with mapping\n",
    "    user_input_lower = nl_query.lower()\n",
    "    if \"from\" in user_input_lower:\n",
    "        after_from = user_input_lower.split(\"from\")[-1].strip()\n",
    "        city_name = after_from.split()[0]  # can be improved later for multi-word cities\n",
    "        airport_code = city_code_map.get(city_name)\n",
    "        if airport_code:\n",
    "            return f\"SELECT * FROM flights WHERE departure_airport = '{airport_code}';\"\n",
    "    \n",
    "    # fallback: use GPT to generate SQL\n",
    "    columns = get_table_columns(table_name)\n",
    "    prompt = (\n",
    "        f\"You are an expert SQL generator. The table '{table_name}' has columns: {columns}. \"\n",
    "        f\"Translate the following natural language request into a SQL query only. \"\n",
    "        f\"Do NOT include any explanation or markdown formatting like ```sql. Only output pure SQL.\"\n",
    "        f\"\\nRequest: \\\"{nl_query}\\\"\"\n",
    "    )\n",
    "\n",
    "    response = client.chat.completions.create(\n",
    "        model=\"gpt-4o\",\n",
    "        messages=[\n",
    "            {\"role\": \"system\", \"content\": \"Translate natural language to SQL ONLY. Return only valid SQL without any explanation.\"},\n",
    "            {\"role\": \"user\", \"content\": prompt}\n",
    "        ]\n",
    "    )\n",
    "\n",
    "    raw_output = response.choices[0].message.content.strip()\n",
    "    clean_sql = re.sub(r\"```sql|```\", \"\", raw_output).strip()\n",
    "    return clean_sql"
   ]
  },
  {
   "cell_type": "code",
   "execution_count": null,
   "id": "3bc5a734-fb81-4202-80be-18f840695f04",
   "metadata": {},
   "outputs": [],
   "source": [
    "def chatbot():\n",
    "    print(\" Natural Language to SQL Chatbot (type 'exit' to leave)\")\n",
    "    show_tables()\n",
    "    \n",
    "    while True:\n",
    "        table_name = input(\"Which table do you want to query? (flights/airports_data/hotels): \").strip()\n",
    "        user_input = input(\"\\n Your request: \")\n",
    "        if user_input.lower() == \"exit\":\n",
    "            print(\" Ended\")\n",
    "            break\n",
    "        \n",
    "\n",
    "        sql_query = nl_to_sql(user_input, table_name)\n",
    "        print(f\" GPT's SQL:\\n{sql_query}\")\n",
    "        \n",
    "        result, total = execute_sql(sql_query)\n",
    "        if isinstance(result, str):  # error\n",
    "            print(result)\n",
    "        else:\n",
    "            print(f\" Showing first {len(result)} of {total} results:\")\n",
    "            for row in result:\n",
    "                print(row)"
   ]
  },
  {
   "cell_type": "markdown",
   "id": "markdown-run",
   "metadata": {},
   "source": [
    "## Run Chatbot"
   ]
  },
  {
   "cell_type": "code",
   "execution_count": null,
   "id": "45cc6d23-d84d-42d0-9628-49107ddd3587",
   "metadata": {},
   "outputs": [],
   "source": [
    "chatbot()"
   ]
  }
 ],
 "metadata": {
  "kernelspec": {
   "display_name": "Python 3 (ipykernel)",
   "language": "python",
   "name": "python3"
  },
  "language_info": {
   "codemirror_mode": {
    "name": "ipython",
    "version": 3
   },
   "file_extension": ".py",
   "mimetype": "text/x-python",
   "name": "python",
   "nbconvert_exporter": "python",
   "pygments_lexer": "ipython3",
   "version": "3.10.11"
  }
 },
 "nbformat": 4,
 "nbformat_minor": 5
}
