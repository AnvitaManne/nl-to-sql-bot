{
 "cells": [
  {
   "cell_type": "markdown",
   "id": "notebook-title",
   "metadata": {},
   "source": [
    "# NL to SQL Bot"
   ]
  },
  {
   "cell_type": "code",
   "execution_count": null,
   "id": "07774e3a-bf3e-4819-bf89-bf24958a4985",
   "metadata": {},
   "outputs": [],
   "source": [
    "pip install openai\n"
   ]
  },
  {
   "cell_type": "code",
   "execution_count": 3,
   "id": "626342a1-c4ae-477a-8416-227899e36a1b",
   "metadata": {},
   "outputs": [],
   "source": [
    "import sqlite3\n"
   ]
  },
  {
   "cell_type": "code",
   "execution_count": null,
   "id": "a1b6d351-38af-4f4a-b7bb-db28f0063557",
   "metadata": {},
   "outputs": [],
   "source": [
    "!pip install --upgrade --force-reinstall pydantic pydantic-core\n"
   ]
  },
  {
   "cell_type": "code",
   "execution_count": 50,
   "id": "bdc9f90c-a37a-4905-afd1-9abcfa982443",
   "metadata": {},
   "outputs": [
    {
     "name": "stdout",
     "output_type": "stream",
     "text": [
      "Departure Airports: ['BSL', 'SHA', 'OSL', 'HAM', 'PEK', 'GVA', 'MSP', 'LIS', 'DKR', 'NBO', 'HKT', 'SEA', 'PEN', 'CEB', 'PHX', 'DEN', 'RIX', 'DME', 'DOH', 'SEZ', 'EDI', 'LHR', 'BOM', 'LGA', 'FCO', 'PRG', 'DUS', 'STN', 'SLC', 'HND', 'SYD', 'PER', 'CTU', 'MAD', 'IST', 'GIG', 'IAD', 'BKK', 'IAH', 'LGW', 'BCN', 'MEX', 'SFO', 'MEL', 'AKL', 'KWI', 'GRU', 'JNB', 'CDG', 'CGK', 'BOS', 'HRE', 'CPH', 'PVG', 'KMG', 'ADL', 'PPT', 'SAW', 'JFK', 'DTW', 'SAL', 'MIA', 'CAN', 'ORD', 'CUN', 'LAD', 'LIM', 'LAS', 'ICN', 'SIN', 'REP', 'CLT', 'MRS', 'EWR', 'MUC', 'DEL', 'ATL', 'RGN', 'DUB', 'SVO', 'DCA', 'HKG', 'PNH', 'MNL', 'JRO', 'ATH', 'MCO', 'HEL', 'FRA', 'BRU', 'SAN', 'ORY', 'HNL', 'DFW', 'BNE', 'AMS', 'CCS', 'ARN', 'NGO', 'DXB', 'DAC', 'BOG', 'LAX', 'NRT']\n",
      "Arrival Airports: ['BKK', 'CUN', 'AMS', 'PRG', 'RGN', 'EDI', 'MNL', 'NBO', 'DEN', 'HNL', 'GVA', 'BOM', 'SHA', 'IAH', 'BOS', 'OSL', 'BSL', 'MAD', 'HKT', 'MUC', 'CDG', 'DUS', 'HAM', 'LHR', 'FCO', 'MSP', 'STN', 'PER', 'CTU', 'IST', 'DKR', 'IAD', 'MEX', 'SFO', 'MEL', 'AKL', 'KWI', 'HRE', 'KMG', 'SAW', 'JFK', 'SAL', 'CAN', 'LIM', 'LAS', 'SIN', 'SEA', 'CLT', 'CEB', 'EWR', 'ATL', 'DUB', 'HKG', 'PNH', 'DME', 'ATH', 'MCO', 'HEL', 'FRA', 'DOH', 'SAN', 'BNE', 'CCS', 'ARN', 'LGA', 'LIS', 'SLC', 'HND', 'LGW', 'JNB', 'ORD', 'LAD', 'ICN', 'SVO', 'BRU', 'SEZ', 'ORY', 'LAX', 'NRT', 'PEK', 'CPH', 'ADL', 'MRS', 'PHX', 'DEL', 'RIX', 'SYD', 'MIA', 'DCA', 'DXB', 'BOG', 'JRO', 'NGO', 'GIG', 'GRU', 'PVG', 'DTW', 'DFW', 'PEN', 'PPT', 'DAC', 'REP', 'CGK', 'BCN']\n"
     ]
    }
   ],
   "source": [
    "import sqlite3\n",
    "\n",
    "conn = sqlite3.connect('travel2.sqlite')\n",
    "cursor = conn.cursor()\n",
    "\n",
    "cursor.execute(\"SELECT DISTINCT departure_airport FROM flights;\")\n",
    "dep_codes = cursor.fetchall()\n",
    "\n",
    "cursor.execute(\"SELECT DISTINCT arrival_airport FROM flights;\")\n",
    "arr_codes = cursor.fetchall()\n",
    "\n",
    "conn.close()\n",
    "\n",
    "print(\"Departure Airports:\", [code[0] for code in dep_codes])\n",
    "print(\"Arrival Airports:\", [code[0] for code in arr_codes])\n"
   ]
  },
  {
   "cell_type": "code",
   "execution_count": 52,
   "id": "6ff031e4-36f3-497c-8374-d7d0e82e91de",
   "metadata": {},
   "outputs": [
    {
     "name": "stdout",
     "output_type": "stream",
     "text": [
      "City to Airport Code mappings:\n",
      "Atlanta -> ATL\n",
      "Beijing -> PEK\n",
      "Dubai -> DXB\n",
      "Los Angeles -> LAX\n",
      "Tokyo -> HND\n",
      "Chicago -> ORD\n",
      "London -> LHR\n",
      "Paris -> CDG\n",
      "Dallas -> DFW\n",
      "Hong Kong -> HKG\n",
      "New York -> JFK\n",
      "Amsterdam -> AMS\n",
      "Frankfurt -> FRA\n",
      "Shanghai -> PVG\n",
      "San Francisco -> SFO\n",
      "Seoul -> ICN\n",
      "Denver -> DEN\n",
      "Bangkok -> BKK\n",
      "Madrid -> MAD\n",
      "Singapore -> SIN\n",
      "Guangzhou -> CAN\n",
      "Seattle -> SEA\n",
      "Miami -> MIA\n",
      "Barcelona -> BCN\n",
      "Toronto -> YYZ\n",
      "Phoenix -> PHX\n",
      "Las Vegas -> LAS\n",
      "Houston -> IAH\n",
      "Munich -> MUC\n",
      "Istanbul -> IST\n",
      "New Delhi -> DEL\n",
      "Sydney -> SYD\n",
      "Orlando -> MCO\n",
      "Newark -> EWR\n",
      "London -> LGW\n",
      "Minneapolis -> MSP\n",
      "Mumbai -> BOM\n",
      "Charlotte -> CLT\n",
      "Kunming -> KMG\n",
      "Manila -> MNL\n",
      "Taipei -> TPE\n",
      "Mexico City -> MEX\n",
      "Auckland -> AKL\n",
      "Washington, D.C. -> IAD\n",
      "São Paulo -> GRU\n",
      "Rome -> FCO\n",
      "Chengdu -> CTU\n",
      "Tampa -> TPA\n",
      "Boston -> BOS\n",
      "Calgary -> YYC\n",
      "Moscow -> DME\n",
      "Vienna -> VIE\n",
      "Salt Lake City -> SLC\n",
      "Düsseldorf -> DUS\n",
      "Paris -> ORY\n",
      "Vancouver -> YVR\n",
      "Johannesburg -> JNB\n",
      "Zurich -> ZRH\n",
      "Tokyo -> NRT\n",
      "New York -> LGA\n",
      "Brussels -> BRU\n",
      "Copenhagen -> CPH\n",
      "Moscow -> SVO\n",
      "Melbourne -> MEL\n",
      "Detroit -> DTW\n",
      "Stockholm -> ARN\n",
      "Istanbul -> SAW\n",
      "Hamburg -> HAM\n",
      "Athens -> ATH\n",
      "Jakarta -> CGK\n",
      "Lisbon -> LIS\n",
      "Montreal -> YUL\n",
      "Edinburgh -> EDI\n",
      "Washington, D.C. -> DCA\n",
      "Helsinki -> HEL\n",
      "Oslo -> OSL\n",
      "Honolulu -> HNL\n",
      "London -> STN\n",
      "San Diego -> SAN\n",
      "Warsaw -> WAW\n",
      "Cancún -> CUN\n",
      "Shanghai -> SHA\n",
      "Brisbane -> BNE\n",
      "Dublin -> DUB\n",
      "Nagoya -> NGO\n",
      "Berlin -> TXL\n",
      "Basel -> BSL\n",
      "Geneva -> GVA\n",
      "Prague -> PRG\n",
      "Riga -> RIX\n",
      "Rio de Janeiro -> GIG\n",
      "Bogotá -> BOG\n",
      "Lima -> LIM\n",
      "Caracas -> CCS\n",
      "San Salvador -> SAL\n",
      "Papeete -> PPT\n",
      "Yangon -> RGN\n",
      "Dhaka -> DAC\n",
      "Kuwait City -> KWI\n",
      "Doha -> DOH\n",
      "Adelaide -> ADL\n",
      "Perth -> PER\n",
      "Marseille -> MRS\n",
      "Cebu -> CEB\n",
      "Penang -> PEN\n",
      "Ko Samui -> USM\n",
      "Phnom Penh -> PNH\n",
      "Phuket -> HKT\n",
      "Siem Reap -> REP\n",
      "Nairobi -> NBO\n",
      "Arusha -> JRO\n",
      "Victoria -> SEZ\n",
      "Harare -> HRE\n",
      "Luanda -> LAD\n",
      "Dakar -> DKR\n"
     ]
    }
   ],
   "source": [
    "import sqlite3\n",
    "\n",
    "def show_city_to_airport_code(db_path=\"travel2.sqlite\"):\n",
    "   conn = sqlite3.connect(db_path)\n",
    "   cursor = conn.cursor()\n",
    "   \n",
    "   cursor.execute(\"SELECT city, airport_code FROM airports_data;\")\n",
    "   mappings = cursor.fetchall()\n",
    "   conn.close()\n",
    "   \n",
    "   print(\"City to Airport Code mappings:\")\n",
    "   for city, code in mappings:\n",
    "       print(f\"{city} -> {code}\")\n",
    "\n",
    "show_city_to_airport_code()\n"
   ]
  },
  {
   "cell_type": "code",
   "execution_count": null,
   "id": "5047c2d1-91ac-4e73-9e6c-84be6a1211db",
   "metadata": {},
   "outputs": [],
   "source": [
    "!pip install jiter\n"
   ]
  },
  {
   "cell_type": "code",
   "execution_count": null,
   "id": "04fd2905-1ef5-4bd4-9d0e-615af3342f98",
   "metadata": {},
   "outputs": [],
   "source": [
    "pip show openai\n"
   ]
  },
  {
   "cell_type": "code",
   "execution_count": null,
   "id": "38bd7360-4660-4251-a82d-0d1c15baa6c5",
   "metadata": {},
   "outputs": [],
   "source": [
    "!pip install --force-reinstall jiter\n",
    "\n"
   ]
  },
  {
   "cell_type": "code",
   "execution_count": null,
   "id": "684c8f1f-dd58-4367-8d70-846fd00e05ac",
   "metadata": {},
   "outputs": [],
   "source": [
    "import jiter\n",
    "print(jiter.__version__)\n"
   ]
  },
  {
   "cell_type": "code",
   "execution_count": 51,
   "id": "6d2cc5d2-404b-4f25-9690-536e43eac33e",
   "metadata": {},
   "outputs": [
    {
     "name": "stdout",
     "output_type": "stream",
     "text": [
      "Columns in airports_data:\n",
      "- airport_code\n",
      "- airport_name\n",
      "- city\n",
      "- coordinates\n",
      "- timezone\n"
     ]
    }
   ],
   "source": [
    "import sqlite3\n",
    "\n",
    "def show_airports_columns(db_path=\"travel2.sqlite\"):\n",
    "   conn = sqlite3.connect(db_path)\n",
    "   cursor = conn.cursor()\n",
    "   \n",
    "   cursor.execute(\"PRAGMA table_info(airports_data);\")\n",
    "   columns = cursor.fetchall()\n",
    "   conn.close()\n",
    "   \n",
    "   print(\"Columns in airports_data:\")\n",
    "   for col in columns:\n",
    "       print(f\"- {col[1]}\")\n",
    "\n",
    "show_airports_columns()\n"
   ]
  },
  {
   "cell_type": "code",
   "execution_count": 44,
   "id": "e569f0f6-8dfc-4385-8680-54f59fc6b8fe",
   "metadata": {},
   "outputs": [
    {
     "name": "stdout",
     "output_type": "stream",
     "text": [
      "Columns in flights table: ['flight_id', 'flight_no', 'scheduled_departure', 'scheduled_arrival', 'departure_airport', 'arrival_airport', 'status', 'aircraft_code', 'actual_departure', 'actual_arrival']\n"
     ]
    }
   ],
   "source": [
    "import sqlite3\n",
    "\n",
    "def get_table_columns(table_name, db_path=\"travel2.sqlite\"):\n",
    "   conn = sqlite3.connect(db_path)\n",
    "   cursor = conn.cursor()\n",
    "   cursor.execute(f\"PRAGMA table_info({table_name});\")\n",
    "   columns = cursor.fetchall()\n",
    "   conn.close()\n",
    "   return [col[1] for col in columns]  # col[1] is the column name\n",
    "\n",
    "print(\"Columns in flights table:\", get_table_columns(\"flights\"))\n"
   ]
  },
  {
   "cell_type": "code",
   "execution_count": 9,
   "id": "06f61184-520a-4b20-b18c-34505882ca76",
   "metadata": {},
   "outputs": [],
   "source": [
    "import sqlite3\n",
    "import openai\n",
    "\n",
    "from openai import OpenAI\n",
    "client = OpenAI(api_key=\"YOUR_API_KEY_HERE\")\n"
   ]
  },
  {
   "cell_type": "code",
   "execution_count": 10,
   "id": "ddfb28da-b02c-49c8-9ca8-76790177fe67",
   "metadata": {},
   "outputs": [],
   "source": [
    "def get_table_columns(table_name, db_path=\"travel2.sqlite\"):\n",
    "   conn = sqlite3.connect(db_path)\n",
    "   cursor = conn.cursor()\n",
    "   cursor.execute(f\"PRAGMA table_info({table_name});\")\n",
    "   columns = cursor.fetchall()\n",
    "   conn.close()\n",
    "   return [col[1] for col in columns]\n",
    "\n"
   ]
  },
  {
   "cell_type": "code",
   "execution_count": 22,
   "id": "4f625fe1-5a89-4cd1-9545-667f428adcbe",
   "metadata": {},
   "outputs": [],
   "source": [
    "def execute_sql(sql_query, db_path=\"travel2.sqlite\", preview_limit=10):\n",
    "   conn = sqlite3.connect(db_path)\n",
    "   cursor = conn.cursor()\n",
    "   try:\n",
    "       cursor.execute(sql_query)\n",
    "       result = cursor.fetchall()\n",
    "       conn.close()\n",
    "       return result[:preview_limit], len(result)\n",
    "   except Exception as e:\n",
    "       conn.close()\n",
    "       return f\" Error executing query: {e}\", 0\n"
   ]
  },
  {
   "cell_type": "code",
   "execution_count": 23,
   "id": "e4a3111c-b8f3-42f4-989c-597927750532",
   "metadata": {},
   "outputs": [],
   "source": [
    "def show_tables(db_path=\"travel2.sqlite\"):\n",
    "   conn = sqlite3.connect(db_path)\n",
    "   cursor = conn.cursor()\n",
    "   cursor.execute(\"SELECT name FROM sqlite_master WHERE type='table';\")\n",
    "   tables = cursor.fetchall()\n",
    "   conn.close()\n",
    "   print(\" Tables in DB:\", [table[0] for table in tables])\n"
   ]
  },
  {
   "cell_type": "code",
   "execution_count": 41,
   "id": "30b18734-6203-4207-942f-b23fcee3a8ba",
   "metadata": {},
   "outputs": [],
   "source": [
    "def load_city_to_code_map(db_path=\"travel2.sqlite\"):\n",
    "   conn = sqlite3.connect(db_path)\n",
    "   cursor = conn.cursor()\n",
    "   cursor.execute(\"SELECT city, airport_code FROM airports_data;\")\n",
    "   data = cursor.fetchall()\n",
    "   conn.close()\n",
    "   return {city.lower(): code for city, code in data}\n"
   ]
  },
  {
   "cell_type": "code",
   "execution_count": 46,
   "id": "df982f2b-65a6-4b99-8726-704ce3192ca9",
   "metadata": {},
   "outputs": [],
   "source": [
    "import re\n",
    "\n",
    "city_code_map = load_city_to_code_map()\n",
    "\n",
    "def nl_to_sql(nl_query, table_name):\n",
    "   # Try to handle simple \"from <city>\" case first with mapping\n",
    "   user_input_lower = nl_query.lower()\n",
    "   if \"from\" in user_input_lower:\n",
    "       after_from = user_input_lower.split(\"from\")[-1].strip()\n",
    "       city_name = after_from.split()[0]  # can be improved later for multi-word cities\n",
    "       airport_code = city_code_map.get(city_name)\n",
    "       if airport_code:\n",
    "           return f\"SELECT * FROM flights WHERE departure_airport = '{airport_code}';\"\n",
    "   \n",
    "   # fallback: use GPT to generate SQL\n",
    "   columns = get_table_columns(table_name)\n",
    "   prompt = (\n",
    "       f\"You are an expert SQL generator. The table '{table_name}' has columns: {columns}. \"\n",
    "       f\"Translate the following natural language request into a SQL query only. \"\n",
    "       f\"Do NOT include any explanation or markdown formatting like ```sql. Only output pure SQL.\"\n",
    "       f\"\\nRequest: \\\"{nl_query}\\\"\"\n",
    "   )\n",
    "\n",
    "   response = client.chat.completions.create(\n",
    "       model=\"gpt-4o\",\n",
    "       messages=[\n",
    "           {\"role\": \"system\", \"content\": \"Translate natural language to SQL ONLY. Return only valid SQL without any explanation.\"},\n",
    "           {\"role\": \"user\", \"content\": prompt}\n",
    "       ]\n",
    "   )\n",
    "\n",
    "   raw_output = response.choices[0].message.content.strip()\n",
    "   clean_sql = re.sub(r\"```sql|```\", \"\", raw_output).strip()\n",
    "   return clean_sql\n"
   ]
  },
  {
   "cell_type": "code",
   "execution_count": 53,
   "id": "3bc5a734-fb81-4202-80be-18f840695f04",
   "metadata": {},
   "outputs": [],
   "source": [
    "def chatbot():\n",
    "   print(\" Natural Language to SQL Chatbot (type 'exit' to leave)\")\n",
    "   show_tables()\n",
    "   \n",
    "   while True:\n",
    "       table_name = input(\"Which table do you want to query? (flights/airports_data/hotels): \").strip()\n",
    "       user_input = input(\"\\n Your request: \")\n",
    "       if user_input.lower() == \"exit\":\n",
    "           print(\" Ended\")\n",
    "           break\n",
    "       \n",
    "\n",
    "       sql_query = nl_to_sql(user_input, table_name)\n",
    "       print(f\" GPT's SQL:\\n{sql_query}\")\n",
    "       \n",
    "       result, total = execute_sql(sql_query)\n",
    "       if isinstance(result, str):  # error\n",
    "           print(result)\n",
    "       else:\n",
    "           print(f\" Showing first {len(result)} of {total} results:\")\n",
    "           for row in result:\n",
    "               print(row)\n"
   ]
  },
  {
   "cell_type": "code",
   "execution_count": 54,
   "id": "45cc6d23-d84d-42d0-9628-49107ddd3587",
   "metadata": {},
   "outputs": [
    {
     "name": "stdout",
     "output_type": "stream",
     "text": [
      "hi\n",
      " Natural Language to SQL Chatbot (type 'exit' to leave)\n",
      " Tables in DB: ['aircrafts_data', 'airports_data', 'boarding_passes', 'bookings', 'flights', 'seats', 'ticket_flights', 'tickets', 'car_rentals', 'hotels', 'trip_recommendations']\n"
     ]
    },
    {
     "name": "stdout",
     "output_type": "stream",
     "text": [
      "\n",
      " Your request:  show all flights from seattle\n"
     ]
    },
    {
     "name": "stdout",
     "output_type": "stream",
     "text": [
      " GPT's SQL:\n",
      "SELECT * FROM flights WHERE departure_airport = 'SEA';\n",
      " Showing first 10 of 183 results:\n",
      "(23609, 'TG0055', '2024-05-16 05:44:03.561731-04:00', '2024-05-16 07:09:03.561731-04:00', 'SEA', 'OSL', 'Scheduled', 'CR2', None, None)\n",
      "(23695, 'DL0114', '2024-05-11 05:04:03.561731-04:00', '2024-05-11 05:34:03.561731-04:00', 'SEA', 'MNL', 'Scheduled', 'CR2', None, None)\n",
      "(23524, 'IB0115', '2024-04-22 04:19:03.561731-04:00', '2024-04-22 05:39:03.561731-04:00', 'SEA', 'BSL', 'Arrived', 'CR2', '2024-04-22 04:20:03.561731-04:00', '2024-04-22 05:40:03.561731-04:00')\n",
      "(23525, 'IB0115', '2024-05-14 04:19:03.561731-04:00', '2024-05-14 05:39:03.561731-04:00', 'SEA', 'BSL', 'Scheduled', 'CR2', None, None)\n",
      "(23526, 'IB0115', '2024-05-23 04:19:03.561731-04:00', '2024-05-23 05:39:03.561731-04:00', 'SEA', 'BSL', 'Scheduled', 'CR2', None, None)\n",
      "(23527, 'IB0115', '2024-04-19 04:19:03.561731-04:00', '2024-04-19 05:39:03.561731-04:00', 'SEA', 'BSL', 'Arrived', 'CR2', '2024-04-19 04:21:03.561731-04:00', '2024-04-19 05:42:03.561731-04:00')\n",
      "(23528, 'IB0115', '2024-05-28 04:19:03.561731-04:00', '2Player-created 05:39:03.561731-04:00', 'SEA', 'BSL', 'Scheduled', 'CR2', None, None)\n",
      "(23529, 'IB0115', '2024-05-03 04:19:03.561731-04:00', '2024-05-03 05:39:03.561731-04:00', 'SEA', 'BSL', 'Scheduled', 'CR2', None, None)\n",
      "(23530, 'IB0115', '2024-05-24 04:19:03.561731-04:00', '2024-05-24 05:39:03.561731-04:00', 'SEA', 'BSL', 'Scheduled', 'CR2', None, None)\n",
      "(23531, 'IB0115', '2024-04-13 04:19:03.561731-04:00', '2024-04-13 05:39:03.561731-04:00', 'SEA', 'BSL', 'Arrived', 'CR2', '2024-04-13 04:26:03.561731-04:00', '2024-04-13 05:46:03.561731-04:00')\n"
     ]
    },
    {
     "name": "stdout",
     "output_type": "stream",
     "text": [
      "\n",
      " Your request:  show all flights from paris to tokyo\n"
     ]
    },
    {
     "name": "stdout",
     "output_type": "stream",
     "text": [
      " GPT's SQL:\n",
      "SELECT * FROM flights WHERE departure_airport = 'ORY';\n",
      " Showing first 10 of 123 results:\n",
      "(29503, 'CZ0109', '2024-04-21 07:54:03.561731-04:00', '2024-04-21 09:39:03.561731-04:00', 'ORY', 'SHA', 'Arrived', 'CR2', '2024-04-21 08:00:03.561731-04:00', '2024-04-21 09:44:03.561731-04:00')\n",
      "(29504, 'CZ0109', '2024-04-09 07:54:03.561731-04:00', '2024-04-09 09:39:03.561731-04:00', 'ORY', 'SHA', 'Arrived', 'CR2', '2024-04-09 07:56:03.561731-04:00', '2024-04-09 09:40:03.561731-04:00')\n",
      "(29505, 'CZ0109', '2024-05-05 07:54:03.561731-04:00', '2024-05-05 09:39:03.561731-04:00', 'ORY', 'SHA', 'Scheduled', 'CR2', None, None)\n",
      "(29506, 'CZ0109', '2024-03-31 07:54:03.561731-04:00', '2024-03-31 09:39:03.561731-04:00', 'ORY', 'SHA', 'Arrived', 'CR2', '2024-03-31 07:59:03.561731-04:00', '2024-03-31 09:44:03.561731-04:00')\n",
      "(29507, 'CZ0109', '2024-04-07 07:54:03.561731-04:00', '2024-04-07 09:39:03.561731-04:00', 'ORY', 'SHA', 'Arrived', 'CR2', '2024-04-07 07:58:03.561731-04:00', '2024-04-07 09:44:03.561731-04:00')\n",
      "(29508, 'CZ0109', '2024-05-03 07:54:03.561731-04:00', '2024-05-03 09:39:03.561731-04:00', 'ORY', 'SHA', 'Scheduled', 'CR2', None, None)\n",
      "(29509, 'CZ0109', '2024-05-26 07:54:03.561731-04:00', '2024-05-26 09:39:03.561731-04:00', 'ORY', 'SHA', 'Scheduled', 'CR2', None, None)\n",
      "(29510, 'CZ0109', '2024-04-19 07:54:03.561731-04:00', '2024-04-19 09:39:03.561731-04:00', 'ORY', 'SHA', 'Arrived', 'CR2', '2024-04-19 07:56:03.561731-04:00', '2024-04-19 09:41:03.561731-04:00')\n",
      "(29511, 'CZ0109', '2024-04-23 07:54:03.561731-04:00', '2024-04-23 09:39:03.561731-04:00', 'ORY', 'SHA', 'Arrived', 'CR2', '2024-04-23 07:58:03.561731-04:00', '2024-04-23 09:44:03.561731-04:00')\n",
      "(29512, 'CZ0109', '2024-05-07 07:54:03.561731-04:00', '2024-05-07 09:39:03.561731-04:00', 'ORY', 'SHA', 'Scheduled', 'CR2', None, None)\n"
     ]
    },
    {
     "name": "stdout",
     "output_type": "stream",
     "text": [
      "\n",
      " Your request:  exit\n"
     ]
    },
    {
     "name": "stdout",
     "output_type": "stream",
     "text": [
      " Ended\n"
     ]
    }
   ],
   "source": [
    "\n",
    "print(\"hi\")\n",
    "chatbot()"
   ]
  },
  {
   "cell_type": "code",
   "execution_count": null,
   "id": "1841591b-a500-482f-bdf7-fd3ff855fe2f",
   "metadata": {},
   "outputs": [],
   "source": []
  }
 ],
 "metadata": {
  "kernelspec": {
   "display_name": "Python 3 (ipykernel)",
   "language": "python",
   "name": "python3"
  },
  "language_info": {
   "codemirror_mode": {
    "name": "ipython",
    "version": 3
   },
   "file_extension": ".py",
   "mimetype": "text/x-python",
   "name": "python",
   "nbconvert_exporter": "python",
   "pygments_lexer": "ipython3",
   "version": "3.10.11"
  }
 },
 "nbformat": 4,
 "nbformat_minor": 5
}
