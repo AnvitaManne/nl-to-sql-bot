{
 "cells": [
  {
   "cell_type": "markdown",
   "id": "a0b1c2d3-e4f5-a6b7-c8d9-e0f1a2b3c4d5",
   "metadata": {},
   "source": [
    "# LangGraph Agent with Human-in-the-Loop"
   ]
  },
  {
   "cell_type": "markdown",
   "id": "e0a7f1a1-c1e0-4c3e-b8a9-8356f7b1e4a2",
   "metadata": {},
   "source": [
    "## Setup"
   ]
  },
  {
   "cell_type": "code",
   "execution_count": null,
   "id": "b1c9e3d0-a0e1-4b1f-a2e6-c1a3b5a9f9d8",
   "metadata": {},
   "outputs": [],
   "source": [
    "!pip install -U langgraph langchain langchain-core\n",
    "!pip install --force-reinstall langchain-core\n",
    "!pip install -U langchain-anthropic\n",
    "!pip uninstall regex -y\n",
    "!pip install regex\n",
    "!pip uninstall tiktoken -y\n",
    "!pip install tiktoken"
   ]
  },
  {
   "cell_type": "code",
   "execution_count": null,
   "id": "c2d8f4b0-b2c1-4e7a-a6b4-f3d9e0b1c7a4",
   "metadata": {},
   "outputs": [],
   "source": [
    "import os\n",
    "import textwrap\n",
    "from langchain_core.tools import BaseTool, tool as create_tool\n",
    "from langchain_core.runnables import RunnableConfig\n",
    "from langgraph.checkpoint.memory import InMemorySaver\n",
    "from langgraph.prebuilt import create_react_agent\n",
    "from langgraph.types import interrupt, Command"
   ]
  },
  {
   "cell_type": "code",
   "execution_count": null,
   "id": "c4720f8d-3037-4a82-a4f8-79e8b6e3bb6a",
   "metadata": {},
   "outputs": [],
   "source": [
    "os.environ[\"LANGCHAIN_API_KEY\"] = \"YOUR_LANGCHAIN_API_KEY_HERE\"\n",
    "os.environ[\"LANGCHAIN_ENDPOINT\"] = \"https://api.smith.langchain.com\"\n",
    "os.environ[\"LANGCHAIN_TRACING_V2\"] = \"true\"\n",
    "os.environ[\"OPENAI_API_KEY\"] = \"YOUR_OPENAI_API_KEY_HERE\""
   ]
  },
  {
   "cell_type": "markdown",
   "id": "a1b2c3d4-e5f6-a7b8-c9d0-e1f2a3b4c5d6",
   "metadata": {},
   "source": [
    "## Define Tool with Interrupt"
   ]
  },
  {
   "cell_type": "code",
   "execution_count": null,
   "id": "9fe59cad-6603-4d2f-bf1b-0075e0471750",
   "metadata": {},
   "outputs": [],
   "source": [
    "def schedule_meeting_with_approval(person: str, date: str, time: str):\n",
    "   \"\"\"Schedule a meeting with a person at a specific date and time.\"\"\"\n",
    "\n",
    "   response = interrupt(\n",
    "       f\"Schedule meeting with person='{person}', date='{date}', time='{time}'. Approve or edit?\"\n",
    "   )\n",
    "   \n",
    "   if response[\"type\"] == \"accept\":      \n",
    "       return f\" Meeting confirmed with {person} on {date} at {time}.\"\n",
    "   elif response[\"type\"] == \"edit\":\n",
    "       person = response[\"args\"].get(\"person\", person)\n",
    "       date = response[\"args\"].get(\"date\", date)\n",
    "       time = response[\"args\"].get(\"time\", time)\n",
    "       return f\"Meeting confirmed with {person} on {date} at {time}.\"\n",
    "   else:\n",
    "       return \"Meeting scheduling cancelled or unknown response.\""
   ]
  },
  {
   "cell_type": "code",
   "execution_count": null,
   "id": "c8430a54-3c09-45ca-9c42-51d990ad7b5e",
   "metadata": {},
   "outputs": [],
   "source": [
    "checkpointer = InMemorySaver()\n",
    "\n",
    "agent = create_react_agent(\n",
    "    model=\"openai:gpt-4\",\n",
    "    tools=[schedule_meeting_with_approval],\n",
    "\n",
    "    checkpointer=checkpointer,\n",
    ")"
   ]
  },
  {
   "cell_type": "markdown",
   "id": "f7e8d9c0-b1a2-e3f4-d5c6-a7b8c9d0e1f2",
   "metadata": {},
   "source": [
    "## Run Agent"
   ]
  },
  {
   "cell_type": "code",
   "execution_count": null,
   "id": "04a5307e-7820-4749-b465-b73fd8b56834",
   "metadata": {},
   "outputs": [],
   "source": [
    "config = {\"configurable\": {\"thread_id\": \"meeting-123\"}}\n",
    "\n",
    "for chunk in agent.stream(\n",
    "    {\n",
    "        \"messages\": [{\n",
    "            \"role\": \"user\",\n",
    "            \"content\": \"schedule_meeting with person='Max', date='Tuesday', time='3pm'\"\n",
    "        }]\n",
    "    },\n",
    "    config\n",
    "):\n",
